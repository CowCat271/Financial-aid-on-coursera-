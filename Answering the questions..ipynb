{
 "cells": [
  {
   "cell_type": "markdown",
   "metadata": {},
   "source": [
    "# Financial aid on coursera.\n",
    "## Everything between quotes you should change it \n"
   ]
  },
  {
   "cell_type": "markdown",
   "metadata": {},
   "source": [
    "<font color = red> \n",
    "## Why are you applying for Financial Aid? (150 words minimum required)\n",
    "</font>\n"
   ]
  },
  {
   "cell_type": "markdown",
   "metadata": {},
   "source": [
    "<font size = 5>\n",
    "Hello, my name is \"your name\" and I live in \"your country\", the country in development. I'm applying for financial aid for the course \"Course name\" because I do not have any special source of income, I don't earn enough money, and I can't afford the full tuition at this time of my life and career.\n",
    "Receiving financial aid for this course will help me get valuable knowledge in \"write your career neme like machine learning,\" and I have been searching for a job for a long time for earning money for taking this course, but I have not found one yet, and the time goes on, and receiving financial aid will allow me to focus on my studies, and by taking it, I can take off a paid internship and take another course in the machine learning path.\n",
    "I want to invest in my career and my education, but at this moment I can only invest my time to increase my knowledge and advance in my career and not the money. Hopefully this will change in the upcoming years because I'm ambitious, I want to increase my programming knowledge and new technologies, and I'm eager to work and to advance in my career.\n",
    "\n",
    "</font>"
   ]
  },
  {
   "cell_type": "markdown",
   "metadata": {},
   "source": [
    "<font color = red> \n",
    "## How will taking this course help you achieve your career goals? (150 words minimum required)\n",
    "</font>\n"
   ]
  },
  {
   "cell_type": "markdown",
   "metadata": {},
   "source": [
    "<font size = 5>\n",
    "I have a solid background in \"math and algorithms and problem-solving skills,\" so I'm eager to learn \"machine learning,\" and that's the course that's the first step to me to making good projects that help humanity for an easy life and solve the big problem.\n",
    "My main career goal is to learn every day. I really want to learn and to progress in my career.\n",
    "\"Programming\" requires constant learning and improving; taking a course can help me advance in my knowledge.\n",
    "\n",
    "I plan on gaining additional skills by taking related classes and continuing my involvement with a variety of professional associations, and I noticed that a lot of companies provide internships and jobs in the related fields, and I would certainly be interested in taking them and improving myself to be one of the pioneers of \"machine learning and deep learning.\"\n",
    "There are many opportunities in this field that the candidate can join but must have good knowledge to join these opportunities, so I see that this course with good tutorials and exercises will join me in the world's largest companies and creativity in this area.\n",
    "</font>\n"
   ]
  },
  {
   "cell_type": "markdown",
   "metadata": {},
   "source": [
    "<font color = red> \n",
    "## If you answered no, please help us understand why.?\n",
    "</font>"
   ]
  },
  {
   "cell_type": "markdown",
   "metadata": {},
   "source": [
    "<font size = 5>\n",
    "Because there are a lot of developing countries, the average rate of income is low and there are not enough personal needs for home, so it isn't enough to get paid courses, and we need a lot of free courses for learning and improving ourselves and helping humanity and society.\n",
    "</font>"
   ]
  }
 ],
 "metadata": {
  "kernelspec": {
   "display_name": "Python 3",
   "language": "python",
   "name": "python3"
  },
  "language_info": {
   "codemirror_mode": {
    "name": "ipython",
    "version": 3
   },
   "file_extension": ".py",
   "mimetype": "text/x-python",
   "name": "python",
   "nbconvert_exporter": "python",
   "pygments_lexer": "ipython3",
   "version": "3.7.1"
  }
 },
 "nbformat": 4,
 "nbformat_minor": 2
}
